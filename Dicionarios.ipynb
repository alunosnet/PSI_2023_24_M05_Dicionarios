{
 "cells": [
  {
   "cell_type": "markdown",
   "metadata": {},
   "source": [
    "# Dicionários"
   ]
  },
  {
   "cell_type": "markdown",
   "metadata": {},
   "source": [
    "Os dicionários são uma estrutura de dados dinâmica que armazena os dados na forma de pares chave-valor. Os dicionários, tal como as listas, são mutáveis.\n",
    "Os dicionários são indexados por chaves, que podem ser de qualquer tipo imutável, strings ou números podem ser chaves. As chaves devem ser únicas, enquanto os valores associados podem ser de qualquer tipo de dados e podem ser repetidos."
   ]
  },
  {
   "cell_type": "markdown",
   "metadata": {},
   "source": [
    "### Definir um dicionário"
   ]
  },
  {
   "cell_type": "markdown",
   "metadata": {},
   "source": [
    "Os dicionários são definidos utilizandos chavetas {}. Cada valor do dicionário é definido no formato chave : valor"
   ]
  },
  {
   "cell_type": "code",
   "execution_count": 5,
   "metadata": {},
   "outputs": [
    {
     "name": "stdout",
     "output_type": "stream",
     "text": [
      "{'nome': 'Joaquim', 'idade': 30, 'cidade': 'Viseu', 'morada': ('viseu', 3500)}\n",
      "30\n",
      "viseu\n",
      "viseu\n"
     ]
    }
   ],
   "source": [
    "meu_dicionario = {'nome':'Joaquim', 'idade': 30, 'cidade' : 'Viseu','morada':('viseu',3500)}\n",
    "print(meu_dicionario)\n",
    "print(meu_dicionario['idade'])\n",
    "print(meu_dicionario['morada'][0])\n",
    "morada=meu_dicionario['morada']\n",
    "print(morada[0])"
   ]
  },
  {
   "cell_type": "markdown",
   "metadata": {},
   "source": [
    "### Listar os elementos de um dicionário"
   ]
  },
  {
   "cell_type": "markdown",
   "metadata": {},
   "source": [
    "Para listar os elementos de um dicionários podemos utilizar os métodos keys(), values() e items().\n",
    "O método keys() devolve uma lista de todas as chaves do dicionário\n",
    "O método values() devolve uma lista de todos os valores armazenados no dicionário\n",
    "O método items() devolve uma lista de tuplos, em que cada um é um par chave-valor"
   ]
  },
  {
   "cell_type": "code",
   "execution_count": null,
   "metadata": {},
   "outputs": [],
   "source": [
    "meu_dicionario = {'nome' : 'Joaquim', 'nif' : '123123123', 'morada':'viseu'}\n",
    "chaves = meu_dicionario.keys()\n",
    "print(chaves)\n",
    "valores = meu_dicionario.values()\n",
    "print(valores)\n",
    "elementos = meu_dicionario.items()\n",
    "print(elementos)"
   ]
  },
  {
   "cell_type": "markdown",
   "metadata": {},
   "source": [
    "Também podemos aceder aos valores utilizando a chave como indice."
   ]
  },
  {
   "cell_type": "code",
   "execution_count": null,
   "metadata": {},
   "outputs": [],
   "source": [
    "meu_dicionario = {'nome' : 'Joaquim', 'nif' : '123123123', 'morada':'viseu'}\n",
    "\n",
    "print(meu_dicionario['nome'])"
   ]
  },
  {
   "cell_type": "code",
   "execution_count": null,
   "metadata": {},
   "outputs": [],
   "source": [
    "meu_dicionario = {'nome' : 'Joaquim', 'nif' : '123123123', 'morada':'viseu'}\n",
    "for chave in meu_dicionario.keys():\n",
    "    print(meu_dicionario[chave])"
   ]
  },
  {
   "cell_type": "code",
   "execution_count": null,
   "metadata": {},
   "outputs": [],
   "source": [
    "meu_dicionario = {'nome' : 'Joaquim', 'nif' : '123123123', 'morada':'viseu'}\n",
    "for elemento in meu_dicionario.items():\n",
    "    print(f\"{elemento[0]}:{elemento[1]}\")"
   ]
  },
  {
   "cell_type": "markdown",
   "metadata": {},
   "source": [
    "Pesquisar com base no valor de uma chave"
   ]
  },
  {
   "cell_type": "code",
   "execution_count": null,
   "metadata": {},
   "outputs": [],
   "source": [
    "meu_dicionario = {'nome' : 'Joaquim', 'nif' : '123123123', 'morada':'viseu'}\n",
    "\n",
    "#verificar se o dicionário tem uma chave nome\n",
    "if 'nome' in meu_dicionario.keys():\n",
    "    print(f\"Dicionário tem nome com o valor {meu_dicionario['nome']}\")\n",
    "else:\n",
    "    print(\"Dicionário não tem nome\")"
   ]
  },
  {
   "cell_type": "markdown",
   "metadata": {},
   "source": [
    "### Listas de dicionários"
   ]
  },
  {
   "cell_type": "markdown",
   "metadata": {},
   "source": [
    "Os dicionários são úteis para armazenar informações estruturadas em listas ou arrays."
   ]
  },
  {
   "cell_type": "code",
   "execution_count": null,
   "metadata": {},
   "outputs": [],
   "source": [
    "lista_alunos=[]\n",
    "aluno_a={'nome':'joaquim','turma':'10ºT','processo':'12345'}\n",
    "aluno_b={'nome':'maria','turma':'10ºT','processo':'54321'}\n",
    "aluno_c={'nome':'antónio','turma':'10ºT','processo':'12300'}\n",
    "lista_alunos.append(aluno_a)\n",
    "lista_alunos.append(aluno_b)\n",
    "lista_alunos.append(aluno_c)\n",
    "\n",
    "#mostrar o nome do primeiro aluno\n",
    "print(lista_alunos[0]['nome'])\n",
    "\n",
    "#adicionar um aluno com dados do utilizador\n",
    "nome=input(\"Nome do aluno:\")\n",
    "turma=input(\"Turma do aluno:\")\n",
    "processo=input(\"Processo do aluno:\")\n",
    "aluno_novo={'nome':nome,'turma':turma,'processo':processo}\n",
    "lista_alunos.append(aluno_novo)\n",
    "\n",
    "for aluno in lista_alunos:\n",
    "    print(aluno['nome'])\n"
   ]
  },
  {
   "cell_type": "markdown",
   "metadata": {},
   "source": [
    "Os dicionários que são inseridos na lista não têm de ter a mesma estrutura!"
   ]
  }
 ],
 "metadata": {
  "kernelspec": {
   "display_name": "Python 3",
   "language": "python",
   "name": "python3"
  },
  "language_info": {
   "codemirror_mode": {
    "name": "ipython",
    "version": 3
   },
   "file_extension": ".py",
   "mimetype": "text/x-python",
   "name": "python",
   "nbconvert_exporter": "python",
   "pygments_lexer": "ipython3",
   "version": "3.12.1"
  }
 },
 "nbformat": 4,
 "nbformat_minor": 2
}
