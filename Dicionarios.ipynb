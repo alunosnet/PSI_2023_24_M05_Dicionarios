{
 "cells": [
  {
   "cell_type": "markdown",
   "metadata": {},
   "source": [
    "# Dicionários"
   ]
  },
  {
   "cell_type": "markdown",
   "metadata": {},
   "source": [
    "Os dicionários são uma estrutura de dados dinâmica que armazena os dados na forma de pares chave-valor. Os dicionários, tal como as listas, são mutáveis.\n",
    "Os dicionários são indexados por chaves, que podem ser de qualquer tipo imutável, strings ou números podem ser chaves. As chaves devem ser únicas, enquanto os valores associados podem ser de qualquer tipo de dados e podem ser repetidos."
   ]
  },
  {
   "cell_type": "markdown",
   "metadata": {},
   "source": [
    "### Definir um dicionário"
   ]
  },
  {
   "cell_type": "markdown",
   "metadata": {},
   "source": [
    "Os dicionários são definidos utilizandos chavetas {}. Cada valor do dicionário é definido no formato chave : valor"
   ]
  },
  {
   "cell_type": "code",
   "execution_count": null,
   "metadata": {},
   "outputs": [],
   "source": [
    "meu_dicionario = {'nome':'Joaquim', 'idade': 30, 'cidade' : 'Viseu','morada':('viseu',3500)}\n",
    "print(meu_dicionario)\n",
    "print(meu_dicionario['idade'])\n",
    "print(meu_dicionario['morada'][0])\n",
    "morada=meu_dicionario['morada']\n",
    "print(morada[0])"
   ]
  },
  {
   "cell_type": "markdown",
   "metadata": {},
   "source": [
    "### Listar os elementos de um dicionário"
   ]
  },
  {
   "cell_type": "markdown",
   "metadata": {},
   "source": [
    "Para listar os elementos de um dicionários podemos utilizar os métodos keys(), values() e items().\n",
    "O método keys() devolve uma lista de todas as chaves do dicionário\n",
    "O método values() devolve uma lista de todos os valores armazenados no dicionário\n",
    "O método items() devolve uma lista de tuplos, em que cada um é um par chave-valor"
   ]
  },
  {
   "cell_type": "code",
   "execution_count": null,
   "metadata": {},
   "outputs": [],
   "source": [
    "meu_dicionario = {'nome' : 'Joaquim', 'nif' : '123123123', 'morada':'viseu'}\n",
    "chaves = meu_dicionario.keys()\n",
    "print(chaves)\n",
    "valores = meu_dicionario.values()\n",
    "print(valores)\n",
    "elementos = meu_dicionario.items()\n",
    "print(elementos)"
   ]
  },
  {
   "cell_type": "markdown",
   "metadata": {},
   "source": [
    "Também podemos aceder aos valores utilizando a chave como indice."
   ]
  },
  {
   "cell_type": "code",
   "execution_count": null,
   "metadata": {},
   "outputs": [],
   "source": [
    "meu_dicionario = {'nome' : 'Joaquim', 'nif' : '123123123', 'morada':'viseu'}\n",
    "\n",
    "print(meu_dicionario['nome'])"
   ]
  },
  {
   "cell_type": "code",
   "execution_count": null,
   "metadata": {},
   "outputs": [],
   "source": [
    "meu_dicionario = {'nome' : 'Joaquim', 'nif' : '123123123', 'morada':'viseu'}\n",
    "for chave in meu_dicionario.keys():\n",
    "    print(meu_dicionario[chave])"
   ]
  },
  {
   "cell_type": "code",
   "execution_count": null,
   "metadata": {},
   "outputs": [],
   "source": [
    "meu_dicionario = {'nome' : 'Joaquim', 'nif' : '123123123', 'morada':'viseu'}\n",
    "for elemento in meu_dicionario.items():\n",
    "    print(f\"{elemento[0]}:{elemento[1]}\")"
   ]
  },
  {
   "cell_type": "code",
   "execution_count": null,
   "metadata": {},
   "outputs": [],
   "source": [
    "meu_dicionario = {'nome' : 'Joaquim', 'nif' : '123123123', 'morada':'viseu'}\n",
    "for chave, valor in meu_dicionario.items():\n",
    "    print(f\"{chave}:{valor}\")"
   ]
  },
  {
   "cell_type": "markdown",
   "metadata": {},
   "source": [
    "Método get - devolve o valor de uma chave ou um valor definido por omissão"
   ]
  },
  {
   "cell_type": "code",
   "execution_count": null,
   "metadata": {},
   "outputs": [],
   "source": [
    "meu_dicionario = {'nome':'Joaquim', 'nif':'123123123', 'morada':'viseu'}\n",
    "\n",
    "print(meu_dicionario.get(\"email\",\"Não existe email\"))"
   ]
  },
  {
   "cell_type": "markdown",
   "metadata": {},
   "source": [
    "Pesquisar com base no valor de uma chave"
   ]
  },
  {
   "cell_type": "code",
   "execution_count": null,
   "metadata": {},
   "outputs": [],
   "source": [
    "meu_dicionario = {'nome' : 'Joaquim', 'nif' : '123123123', 'morada':'viseu'}\n",
    "\n",
    "#verificar se o dicionário tem uma chave nome\n",
    "if 'nome' in meu_dicionario.keys():\n",
    "    print(f\"Dicionário tem nome com o valor {meu_dicionario['nome']}\")\n",
    "else:\n",
    "    print(\"Dicionário não tem nome\")"
   ]
  },
  {
   "cell_type": "markdown",
   "metadata": {},
   "source": [
    "Operador in com dicionários"
   ]
  },
  {
   "cell_type": "code",
   "execution_count": null,
   "metadata": {},
   "outputs": [],
   "source": [
    "dicionario = {'nome':'Joaquim', 'idade':26}\n",
    "\n",
    "if 'nome' in dicionario:\n",
    "    print(\"O dicionário tem a chave nome.\")\n",
    "\n",
    "if 'profissao' not in dicionario:\n",
    "    print('O dicionário não tem a chave profissao')"
   ]
  },
  {
   "cell_type": "markdown",
   "metadata": {},
   "source": [
    "### Concatenar dois dicionários"
   ]
  },
  {
   "cell_type": "code",
   "execution_count": null,
   "metadata": {},
   "outputs": [],
   "source": [
    "dicionario1 = {'a':1,'b':2,'c':3}\n",
    "dicionario2 = {'c':4,'d':5}\n",
    "\n",
    "dicionario1.update(dicionario2) #alterar os elementos repetidos e adiciona os novos\n",
    "print(dicionario1)"
   ]
  },
  {
   "cell_type": "markdown",
   "metadata": {},
   "source": [
    "### Remover chaves"
   ]
  },
  {
   "cell_type": "markdown",
   "metadata": {},
   "source": [
    "O método pop() remove a chave e devolve o valor correspondente. A instrução del remove a chave, se não existir ocorre um erro."
   ]
  },
  {
   "cell_type": "code",
   "execution_count": null,
   "metadata": {},
   "outputs": [],
   "source": [
    "dicionario = {'a':1,'b':2,'c':3}\n",
    "print(dicionario)\n",
    "valor=dicionario.pop('b',None)\n",
    "print(valor)\n",
    "print(dicionario)\n",
    "valor=dicionario.pop('d',None)\n",
    "print(valor)\n"
   ]
  },
  {
   "cell_type": "code",
   "execution_count": null,
   "metadata": {},
   "outputs": [],
   "source": [
    "dicionario = {'a':1,'b':2,'c':3}\n",
    "del dicionario['b']\n",
    "print(dicionario)"
   ]
  },
  {
   "cell_type": "markdown",
   "metadata": {},
   "source": [
    "### Arrays de dicionários"
   ]
  },
  {
   "cell_type": "markdown",
   "metadata": {},
   "source": [
    "OS arrays do numpy pode ser utilizados para guardar uma coleção de dicionários."
   ]
  },
  {
   "cell_type": "code",
   "execution_count": null,
   "metadata": {},
   "outputs": [],
   "source": [
    "import numpy as np\n",
    "\n",
    "def AdicionarAluno():\n",
    "    nome=input(\"Nome:\")\n",
    "    idade=int(input(\"Idade:\"))\n",
    "    morada=input(\"Morada:\")\n",
    "    aluno={'nome':nome,'idade':idade,'morada':morada}\n",
    "    return aluno\n",
    "\n",
    "MAX_ITEMS=100\n",
    "alunos=np.empty(MAX_ITEMS,dtype=object)\n",
    "\n",
    "\n",
    "novo=AdicionarAluno()\n",
    "alunos[0]=novo\n",
    "\n",
    "print(alunos[0])\n",
    "#mudar o nome\n",
    "alunos[0]['nome']='maria'\n",
    "print(alunos[0])"
   ]
  },
  {
   "cell_type": "markdown",
   "metadata": {},
   "source": [
    "### Listas de dicionários"
   ]
  },
  {
   "cell_type": "markdown",
   "metadata": {},
   "source": [
    "A mesma coisa pode ser feita com listas (ver a próxima secção)."
   ]
  },
  {
   "cell_type": "markdown",
   "metadata": {},
   "source": [
    "Os dicionários que são inseridos na lista não têm de ter a mesma estrutura!"
   ]
  }
 ],
 "metadata": {
  "kernelspec": {
   "display_name": "Python 3",
   "language": "python",
   "name": "python3"
  },
  "language_info": {
   "codemirror_mode": {
    "name": "ipython",
    "version": 3
   },
   "file_extension": ".py",
   "mimetype": "text/x-python",
   "name": "python",
   "nbconvert_exporter": "python",
   "pygments_lexer": "ipython3",
   "version": "3.12.2"
  }
 },
 "nbformat": 4,
 "nbformat_minor": 2
}
